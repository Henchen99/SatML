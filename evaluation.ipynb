{
 "cells": [
  {
   "cell_type": "code",
   "execution_count": 2,
   "metadata": {},
   "outputs": [],
   "source": [
    "import pandas as pd\n",
    "\n",
    "# Load the CSV file\n",
    "file_path = r\"C:\\Users\\henry\\OneDrive\\USC\\Palo Publication\\new_pipeline\\data\\4_generated_efficacy\\results_with_jailbreak_and_reasoning.csv\"\n",
    "df = pd.read_csv(file_path)\n",
    "\n",
    "# Filter rows where the 'jailbreak' column is True\n",
    "df_filtered = df[df['jailbreak'] == True][['prompt', 'jailbreak']]\n",
    "\n",
    "# Save the filtered data to a new CSV file\n",
    "output_file_path = r\"C:\\Users\\henry\\OneDrive\\USC\\Palo Publication\\new_pipeline\\data\\5_classifier_dataset\\refined_prompt.csv\"\n",
    "df_filtered.to_csv(output_file_path, index=False)"
   ]
  },
  {
   "cell_type": "code",
   "execution_count": null,
   "metadata": {},
   "outputs": [],
   "source": []
  }
 ],
 "metadata": {
  "kernelspec": {
   "display_name": "Python 3",
   "language": "python",
   "name": "python3"
  },
  "language_info": {
   "codemirror_mode": {
    "name": "ipython",
    "version": 3
   },
   "file_extension": ".py",
   "mimetype": "text/x-python",
   "name": "python",
   "nbconvert_exporter": "python",
   "pygments_lexer": "ipython3",
   "version": "3.11.9"
  }
 },
 "nbformat": 4,
 "nbformat_minor": 2
}
