{
 "cells": [
  {
   "cell_type": "code",
   "execution_count": null,
   "metadata": {},
   "outputs": [],
   "source": [
    "# import pandas as pd\n",
    "\n",
    "# # Load the CSV file\n",
    "# file_path = r\"C:\\Users\\henry\\OneDrive\\USC\\Palo Publication\\new_pipeline\\data\\4_generated_efficacy\\results_with_jailbreak_and_reasoning.csv\"\n",
    "# df = pd.read_csv(file_path)\n",
    "\n",
    "# # Filter rows where the 'jailbreak' column is True\n",
    "# df_filtered = df[df['jailbreak'] == True][['prompt', 'jailbreak']]\n",
    "\n",
    "# # Save the filtered data to a new CSV file\n",
    "# output_file_path = r\"C:\\Users\\henry\\OneDrive\\USC\\Palo Publication\\new_pipeline\\data\\5_classifier_dataset\\refined_prompt.csv\"\n",
    "# df_filtered.to_csv(output_file_path, index=False)"
   ]
  },
  {
   "cell_type": "code",
   "execution_count": 1,
   "metadata": {},
   "outputs": [
    {
     "data": {
      "text/plain": [
       "('models/Prompt-Guard-86M\\\\tokenizer_config.json',\n",
       " 'models/Prompt-Guard-86M\\\\special_tokens_map.json',\n",
       " 'models/Prompt-Guard-86M\\\\tokenizer.json')"
      ]
     },
     "execution_count": 1,
     "metadata": {},
     "output_type": "execute_result"
    }
   ],
   "source": [
    "from transformers import AutoTokenizer, AutoModelForSequenceClassification\n",
    "\n",
    "# Load model and tokenizer\n",
    "tokenizer = AutoTokenizer.from_pretrained(\"meta-llama/Prompt-Guard-86M\")\n",
    "model = AutoModelForSequenceClassification.from_pretrained(\"meta-llama/Prompt-Guard-86M\")\n",
    "\n",
    "# Define local save path\n",
    "save_path = \"models/Prompt-Guard-86M\"\n",
    "\n",
    "# Save model and tokenizer\n",
    "model.save_pretrained(save_path)\n",
    "tokenizer.save_pretrained(save_path)\n"
   ]
  },
  {
   "cell_type": "code",
   "execution_count": null,
   "metadata": {},
   "outputs": [],
   "source": []
  },
  {
   "cell_type": "code",
   "execution_count": null,
   "metadata": {},
   "outputs": [],
   "source": []
  }
 ],
 "metadata": {
  "kernelspec": {
   "display_name": "base",
   "language": "python",
   "name": "python3"
  },
  "language_info": {
   "codemirror_mode": {
    "name": "ipython",
    "version": 3
   },
   "file_extension": ".py",
   "mimetype": "text/x-python",
   "name": "python",
   "nbconvert_exporter": "python",
   "pygments_lexer": "ipython3",
   "version": "3.11.7"
  }
 },
 "nbformat": 4,
 "nbformat_minor": 2
}
